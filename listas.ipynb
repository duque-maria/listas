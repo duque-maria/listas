{
  "nbformat": 4,
  "nbformat_minor": 0,
  "metadata": {
    "colab": {
      "provenance": [],
      "authorship_tag": "ABX9TyO2JmEzchEOcSSTrHphxNeH",
      "include_colab_link": true
    },
    "kernelspec": {
      "name": "python3",
      "display_name": "Python 3"
    },
    "language_info": {
      "name": "python"
    }
  },
  "cells": [
    {
      "cell_type": "markdown",
      "metadata": {
        "id": "view-in-github",
        "colab_type": "text"
      },
      "source": [
        "<a href=\"https://colab.research.google.com/github/duque-maria/listas/blob/main/listas.ipynb\" target=\"_parent\"><img src=\"https://colab.research.google.com/assets/colab-badge.svg\" alt=\"Open In Colab\"/></a>"
      ]
    },
    {
      "cell_type": "markdown",
      "source": [
        "# Listas\n",
        "\n",
        "- Una lista hace referencia a una colección de datos que pueden ser números, cadenas o algún otro tipo.\n",
        "- Son colecciones ordenadas de datos, lo que implica que importa el orden en el cual se encuentran sus elementos.\n",
        "- El primero elemento ocupa la posición 0, el segundo la 1, y así sucesivamente.\n",
        "- Son mutables: una vez creada la lista, esta puede modificarse, se le pueden agregar o quitar elementos.\n",
        "- En Python estan representadas por el tipo ***list***  y para definirlas se utiliza la siguiente sintáxis:\n",
        "\n",
        "```nombre_lista = [valor1, valor2, ...., valorn]```\n",
        "\n",
        "- Los elementos pueden ser de cualquier tipo, incluso puede haber tipos diferentes en una misma lista.\n",
        "- También es posible crear una lista usando el constructor ```list()```\n",
        "\n",
        "\n"
      ],
      "metadata": {
        "id": "lkNFE51tClTA"
      }
    },
    {
      "cell_type": "code",
      "source": [
        "# Ejemplo 1\n",
        "\n",
        "#··························································\n",
        "# Usando los [] y dando valores para inicializar las listas\n",
        "#··························································\n",
        "\n",
        "dias_laborales = [\"Lunes\", \"Martes\", \"Miércoles\", \"Jueves\", \"Viernes\"]\n",
        "print(dias_laborales)\n",
        "\n",
        "colores_primarios = [\"Azul\", \"Rojo\", \"Amarillo\"]\n",
        "print(colores_primarios)\n",
        "\n",
        "precios = [205.30, 107.18, 25, 450, 310.89, 170.23, 346]\n",
        "print(precios)\n",
        "print(type(precios))\n",
        "mezcolanza = [12, \"octubre\", 1492, True]\n",
        "lista_vacia = []\n",
        "\n",
        "#··························································\n",
        "# Usando el constructor list()\n",
        "#··························································\n",
        "lista_vacia_2 = list()\n",
        "lista_3 = list(range(0, 30, 2))\n",
        "print(lista_3)\n",
        "lista_4 = list(range(29, 0, -2))\n",
        "print(lista_4)\n",
        "lista_5 = list(\"Néstor Jesús\")\n",
        "print(lista_5)\n",
        "frase = \"Néstor Jesús Páez Sarmiento\"\n",
        "lista_6 = frase.split()\n",
        "print(lista_6)"
      ],
      "metadata": {
        "collapsed": true,
        "id": "sLTkpEItCo_z"
      },
      "execution_count": null,
      "outputs": []
    },
    {
      "cell_type": "markdown",
      "source": [
        "# Operaciones\n",
        "\n",
        "### Operador +\n",
        "\n",
        "- Concatenar los elementos de una lista al final de la otra.\n",
        "\n",
        "### Operador *\n",
        "- Repetir la secuencia de elementos de una lista tantas veces como lo indique el valor que acompaña el operador."
      ],
      "metadata": {
        "id": "b-LPqCG1Q6ML"
      }
    },
    {
      "cell_type": "code",
      "source": [
        "dias_laborales = [\"Lunes\", \"Martes\", \"Miércoles\", \"Jueves\", \"Viernes\"]\n",
        "\n",
        "colores_primarios = [\"Azul\", \"Rojo\", \"Amarillo\"]\n",
        "\n",
        "precios = [205.30, 107.18, 25, 450, 310.89, 170.23, 346]\n",
        "\n",
        "# Acceso a los elementos de una lista\n",
        "\n",
        "print(dias_laborales[0])\n",
        "print(dias_laborales[-1])\n",
        "print(dias_laborales[-5])\n",
        "\n",
        "# Operador +\n",
        "\n",
        "fin_semana = [\"Sábado\", \"Domingo\"]\n",
        "semana = dias_laborales + fin_semana\n",
        "print(semana)\n",
        "\n",
        "# Operador *\n",
        "colores_repetidos = colores_primarios * 3\n",
        "print(colores_repetidos)"
      ],
      "metadata": {
        "id": "Tms8gRr8RZxb"
      },
      "execution_count": null,
      "outputs": []
    },
    {
      "cell_type": "markdown",
      "source": [
        "## Funciones asociadas a las listas"
      ],
      "metadata": {
        "id": "bMqajI6QUKoy"
      }
    },
    {
      "cell_type": "code",
      "source": [
        "dias_laborales = [\"Lunes\", \"Martes\", \"Miércoles\", \"Jueves\", \"Viernes\"]\n",
        "\n",
        "colores_primarios = [\"Azul\", \"Rojo\", \"Amarillo\"]\n",
        "\n",
        "precios = [205.30, 107.18, 25, 450, 310.89, 170.23, 346]\n",
        "\n",
        "pares = list(range(0, 30, 2))\n",
        "\n",
        "impares = list(range(29, 0, -2))\n",
        "\n",
        "colores_repetidos = colores_primarios * 3\n",
        "\n",
        "# append(): agrega un elemento al fnal de la lista\n",
        "dias_laborales.append(\"Sábado\")\n",
        "print(dias_laborales)\n",
        "\n",
        "# len (): total de elementos de la lista\n",
        "print(\"Total de precios = \" , len (precios))\n",
        "\n",
        "# count(): cuenta el número de veces que aparece un elemento en la lista\n",
        "print(f\"El lunes aparece {dias_laborales.count('Lunes')} vez(veces)\")\n",
        "\n",
        "# insert(): agrega en la posición indicada por el índice el nuevo valor, desplazando los demás elementos hacia la derecha. Si el índice es mayor al tamaño de la lista, lo agrega al final)\n",
        "colores_primarios.insert(2, 'Verde')\n",
        "print(colores_primarios)\n",
        "\n",
        "# remove(): quita el elemento de la lista. Si el elemento no está, lanza una excepción.\n",
        "dias_laborales.remove('Sábado')\n",
        "print(dias_laborales)\n",
        "\n",
        "# sort(): ordena la lista de menor a mayor\n",
        "precios.sort()\n",
        "print(precios)\n",
        "precios.sort(reverse=True)\n",
        "print(precios)\n",
        "\n",
        "# reverse():\n",
        "\n",
        "# pop():\n",
        "\n",
        "# clear():\n",
        "\n",
        "# del():"
      ],
      "metadata": {
        "id": "twLCLIS3UasL"
      },
      "execution_count": null,
      "outputs": []
    },
    {
      "cell_type": "markdown",
      "source": [
        "## Partición o división de listas (slicing o rebanadas)\n",
        "- Se pueden generar sublistas a partir de una lista por medi de partición (división) o slicing.\n",
        "- Para obtener una sublista se usa la sintáxis: ```sublista = lista [inicio:fin:n]```"
      ],
      "metadata": {
        "id": "m850jhb1f_NU"
      }
    },
    {
      "cell_type": "code",
      "source": [
        "# se crea una lista de números enteros\n",
        "lista_1 = [1, 2, 3, 4, 5, 6]\n",
        "\n",
        "# sublista con los elementos 0 a la 2 inclusive\n",
        "sublista_1 = lista_1[0:3]\n",
        "print(sublista_1)\n",
        "\n",
        "# sublista con los elementos 0 a la 3 inclusive\n",
        "sublista_2 = lista_1[:4]\n",
        "print(sublista_2)\n",
        "\n",
        "# subslista con los elementos 3 a la 5 inclusive\n",
        "sublista_3 = lista_1[3:]\n",
        "print(sublista_3)\n",
        "\n",
        "# subslista con los elementos desde el incio hasta el final, con saltos de a 2\n",
        "sublista_4 = lista_1[::2]\n",
        "print(sublista_4)"
      ],
      "metadata": {
        "colab": {
          "base_uri": "https://localhost:8080/"
        },
        "id": "8HqEN7SQgt5U",
        "outputId": "34d3d231-10de-4130-8462-d561d2daf9fc"
      },
      "execution_count": 23,
      "outputs": [
        {
          "output_type": "stream",
          "name": "stdout",
          "text": [
            "[1, 2, 3]\n",
            "[1, 2, 3, 4]\n",
            "[4, 5, 6]\n",
            "[1, 3, 5]\n"
          ]
        }
      ]
    }
  ]
}